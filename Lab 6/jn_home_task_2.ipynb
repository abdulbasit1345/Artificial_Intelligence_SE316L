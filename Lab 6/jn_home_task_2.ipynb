{
 "cells": [
  {
   "cell_type": "code",
   "execution_count": 16,
   "id": "56165546-78c0-4921-92b5-2debd4a65ea7",
   "metadata": {},
   "outputs": [
    {
     "data": {
      "text/html": [
       "<div>\n",
       "<style scoped>\n",
       "    .dataframe tbody tr th:only-of-type {\n",
       "        vertical-align: middle;\n",
       "    }\n",
       "\n",
       "    .dataframe tbody tr th {\n",
       "        vertical-align: top;\n",
       "    }\n",
       "\n",
       "    .dataframe thead th {\n",
       "        text-align: right;\n",
       "    }\n",
       "</style>\n",
       "<table border=\"1\" class=\"dataframe\">\n",
       "  <thead>\n",
       "    <tr style=\"text-align: right;\">\n",
       "      <th></th>\n",
       "      <th>ID</th>\n",
       "      <th>\\tYear_Birth</th>\n",
       "      <th>\\tEducation</th>\n",
       "      <th>\\tMarital_Status</th>\n",
       "      <th>\\tIncome</th>\n",
       "      <th>\\tZ_Revenue</th>\n",
       "      <th>\\tResponse</th>\n",
       "    </tr>\n",
       "  </thead>\n",
       "  <tbody>\n",
       "    <tr>\n",
       "      <th>0</th>\n",
       "      <td>5524</td>\n",
       "      <td>1957</td>\n",
       "      <td>\\tGraduation</td>\n",
       "      <td>\\tSingle</td>\n",
       "      <td>\\t58138</td>\n",
       "      <td>\\t0</td>\n",
       "      <td>NaN</td>\n",
       "    </tr>\n",
       "    <tr>\n",
       "      <th>1</th>\n",
       "      <td>2174</td>\n",
       "      <td>1954</td>\n",
       "      <td>\\tGraduation</td>\n",
       "      <td>\\tSingle</td>\n",
       "      <td>\\t46344</td>\n",
       "      <td>\\t0</td>\n",
       "      <td>NaN</td>\n",
       "    </tr>\n",
       "    <tr>\n",
       "      <th>2</th>\n",
       "      <td>4141</td>\n",
       "      <td>1965</td>\n",
       "      <td>\\tGraduation</td>\n",
       "      <td>\\tTogether</td>\n",
       "      <td>\\t71613</td>\n",
       "      <td>\\t0</td>\n",
       "      <td>NaN</td>\n",
       "    </tr>\n",
       "    <tr>\n",
       "      <th>3</th>\n",
       "      <td>6182</td>\n",
       "      <td>1984</td>\n",
       "      <td>\\tGraduation</td>\n",
       "      <td>\\tTogether</td>\n",
       "      <td>\\t26646</td>\n",
       "      <td>\\t1</td>\n",
       "      <td>NaN</td>\n",
       "    </tr>\n",
       "    <tr>\n",
       "      <th>4</th>\n",
       "      <td>5324</td>\n",
       "      <td>1981</td>\n",
       "      <td>\\tPhD</td>\n",
       "      <td>\\tMarried</td>\n",
       "      <td>\\t58293</td>\n",
       "      <td>\\t1\\t0</td>\n",
       "      <td>NaN</td>\n",
       "    </tr>\n",
       "  </tbody>\n",
       "</table>\n",
       "</div>"
      ],
      "text/plain": [
       "     ID  \\tYear_Birth   \\tEducation \\tMarital_Status \\tIncome \\tZ_Revenue  \\\n",
       "0  5524          1957  \\tGraduation         \\tSingle  \\t58138         \\t0   \n",
       "1  2174          1954  \\tGraduation         \\tSingle  \\t46344         \\t0   \n",
       "2  4141          1965  \\tGraduation       \\tTogether  \\t71613         \\t0   \n",
       "3  6182          1984  \\tGraduation       \\tTogether  \\t26646         \\t1   \n",
       "4  5324          1981         \\tPhD        \\tMarried  \\t58293      \\t1\\t0   \n",
       "\n",
       "  \\tResponse  \n",
       "0        NaN  \n",
       "1        NaN  \n",
       "2        NaN  \n",
       "3        NaN  \n",
       "4        NaN  "
      ]
     },
     "execution_count": 16,
     "metadata": {},
     "output_type": "execute_result"
    }
   ],
   "source": [
    "import pandas as pd\n",
    "from sklearn.cluster import KMeans \n",
    "from sklearn.preprocessing import MinMaxScaler\n",
    "from sklearn.preprocessing import LabelEncoder\n",
    "\n",
    "import pandas as pd\n",
    "import numpy as np\n",
    "\n",
    "df = pd.read_csv('marketing_campaign.csv', sep=',')\n",
    "df.head()"
   ]
  },
  {
   "cell_type": "code",
   "execution_count": 33,
   "id": "7e444b2e-6c2a-4865-9ed5-dd0921bac5e8",
   "metadata": {},
   "outputs": [],
   "source": [
    "year = LabelEncoder()\n",
    "income = LabelEncoder()\n",
    "# Features\n",
    "le_year = year.fit_transform(df['\\tYear_Birth'])\n",
    "le_income = income.fit_transform(df['\\tIncome'])\n",
    "\n",
    "km = KMeans(n_clusters=2)"
   ]
  },
  {
   "cell_type": "code",
   "execution_count": 37,
   "id": "66b2a989-4e33-478e-9ec3-f9748366941c",
   "metadata": {},
   "outputs": [
    {
     "name": "stdout",
     "output_type": "stream",
     "text": [
      "[0 1]\n",
      "[[ 5.  3.  9. 19. 17. 10. 13. 20. 15.  1. 18. 16.  7.  2.  6.  2.  0.  8.\n",
      "  21.  3.  9. 14. 11. 12.  4.]\n",
      " [13.  8. 22.  3. 14. 19. 11.  5.  4. 12.  0. 24. 20. 15.  7.  1. 10. 18.\n",
      "   6. 21. 16. 23.  2. 17.  9.]]\n"
     ]
    }
   ],
   "source": [
    "y_predicted = km.fit_predict([le_year, le_income])\n",
    "print(y_predicted)\n",
    "print(km.cluster_centers_)"
   ]
  },
  {
   "cell_type": "code",
   "execution_count": null,
   "id": "01e2eb05-51fb-49aa-938c-d01941b12414",
   "metadata": {},
   "outputs": [],
   "source": []
  }
 ],
 "metadata": {
  "kernelspec": {
   "display_name": "Python 3 (ipykernel)",
   "language": "python",
   "name": "python3"
  },
  "language_info": {
   "codemirror_mode": {
    "name": "ipython",
    "version": 3
   },
   "file_extension": ".py",
   "mimetype": "text/x-python",
   "name": "python",
   "nbconvert_exporter": "python",
   "pygments_lexer": "ipython3",
   "version": "3.12.2"
  }
 },
 "nbformat": 4,
 "nbformat_minor": 5
}
