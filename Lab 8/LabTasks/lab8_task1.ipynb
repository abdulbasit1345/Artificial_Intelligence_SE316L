{
 "cells": [
  {
   "cell_type": "code",
   "execution_count": 2,
   "id": "0cc02d92-5372-41be-bf9b-1d0d0b30a6ca",
   "metadata": {},
   "outputs": [],
   "source": [
    "import pandas as pd\n",
    "from sklearn.metrics.pairwise import cosine_similarity\n",
    "from sklearn.impute import SimpleImputer\n",
    "import numpy as np\n"
   ]
  },
  {
   "cell_type": "code",
   "execution_count": 3,
   "id": "57e8e243-3676-4675-9920-6c930b94149f",
   "metadata": {},
   "outputs": [],
   "source": [
    "# Define the dataset\n",
    "ratings_dict = {\n",
    "    \"item\": [1, 2, 1, 2, 1, 2, 1, 2, 1],\n",
    "    \"user\": ['A', 'A', 'B', 'B', 'C', 'C', 'D', 'D', 'E'],\n",
    "    \"rating\": [1, 2, 2, 4, 2.5, 4, 4.5, 5, 3],\n",
    "}\n",
    "df = pd.DataFrame(ratings_dict)\n",
    "\n",
    "# Create a user-item matrix\n",
    "user_item_matrix = df.pivot(index=\"user\", columns=\"item\", values=\"rating\")\n"
   ]
  },
  {
   "cell_type": "code",
   "execution_count": 4,
   "id": "20eaa169-7260-43a9-b7fc-bf6d92e98c50",
   "metadata": {},
   "outputs": [],
   "source": [
    "# Fill missing values with the mean rating for each user\n",
    "imputer = SimpleImputer(strategy=\"mean\")\n",
    "user_item_matrix_filled = imputer.fit_transform(user_item_matrix)\n",
    "\n",
    "# Compute cosine similarity between items\n",
    "item_similarity = cosine_similarity(user_item_matrix_filled.T)\n"
   ]
  },
  {
   "cell_type": "code",
   "execution_count": 5,
   "id": "4014ae92-004f-45d2-816e-75edc0ec0147",
   "metadata": {},
   "outputs": [],
   "source": [
    "# Convert to DataFrame for easier manipulation\n",
    "item_similarity_df = pd.DataFrame(item_similarity, index=user_item_matrix.columns, columns=user_item_matrix.columns)\n"
   ]
  },
  {
   "cell_type": "code",
   "execution_count": 6,
   "id": "5c1b9aeb-e027-48a6-88eb-0f23e75ed7e3",
   "metadata": {},
   "outputs": [
    {
     "name": "stdout",
     "output_type": "stream",
     "text": [
      "Recommended movies for user 'E':\n",
      "Movie 2: Predicted score 2.92\n"
     ]
    }
   ],
   "source": [
    "# Define a function to recommend items for a given user\n",
    "def recommend_items(user_id, user_item_matrix, item_similarity_df, n_recommendations=2):\n",
    "    user_ratings = user_item_matrix.loc[user_id]\n",
    "    scores = item_similarity_df.dot(user_ratings.fillna(0))  # Weighted sum of item similarities\n",
    "    scores = scores[user_ratings.isna()]  # Consider only items not yet rated by the user\n",
    "    recommendations = scores.sort_values(ascending=False).head(n_recommendations)\n",
    "    return recommendations\n",
    "\n",
    "# Get recommendations for user 'E'\n",
    "user_item_matrix = user_item_matrix.fillna(np.nan)  # Recreate the matrix with NaN for better indexing\n",
    "recommended_items = recommend_items(\"E\", user_item_matrix, item_similarity_df, n_recommendations=2)\n",
    "\n",
    "print(\"Recommended movies for user 'E':\")\n",
    "for item_id, score in recommended_items.items():\n",
    "    print(f\"Movie {item_id}: Predicted score {score:.2f}\")\n"
   ]
  },
  {
   "cell_type": "code",
   "execution_count": null,
   "id": "adcd19ad-5447-4f18-8d63-dff77633c40d",
   "metadata": {},
   "outputs": [],
   "source": []
  }
 ],
 "metadata": {
  "kernelspec": {
   "display_name": "Python 3 (ipykernel)",
   "language": "python",
   "name": "python3"
  },
  "language_info": {
   "codemirror_mode": {
    "name": "ipython",
    "version": 3
   },
   "file_extension": ".py",
   "mimetype": "text/x-python",
   "name": "python",
   "nbconvert_exporter": "python",
   "pygments_lexer": "ipython3",
   "version": "3.12.2"
  }
 },
 "nbformat": 4,
 "nbformat_minor": 5
}
